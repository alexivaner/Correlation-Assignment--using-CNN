{
 "cells": [
  {
   "cell_type": "code",
   "execution_count": 250,
   "metadata": {},
   "outputs": [],
   "source": [
    "# import the necessary packages\n",
    "from sklearn.preprocessing import LabelBinarizer\n",
    "from sklearn.preprocessing import MinMaxScaler\n",
    "from tensorflow.keras.models import Sequential,load_model\n",
    "from tensorflow.keras.layers import BatchNormalization\n",
    "from tensorflow.keras.layers import Conv2D\n",
    "from tensorflow.keras.layers import MaxPooling2D\n",
    "from tensorflow.keras.layers import Activation\n",
    "from tensorflow.keras.layers import Dropout\n",
    "from tensorflow.keras.layers import Dense\n",
    "from tensorflow.keras.layers import Flatten\n",
    "from tensorflow.keras.layers import Input\n",
    "from tensorflow.keras.models import Model\n",
    "from tensorflow.keras.optimizers import Adam,Adadelta,SGD\n",
    "from tensorflow.keras.losses import huber\n",
    "import tensorflow_addons as tfa\n",
    "from tensorflow import keras\n",
    "from sklearn.model_selection import train_test_split\n",
    "import pandas as pd\n",
    "import numpy as np\n",
    "import argparse\n",
    "import locale\n",
    "import glob\n",
    "import cv2\n",
    "import os\n",
    "import matplotlib.pyplot as plt\n",
    "import tensorflow as tf"
   ]
  },
  {
   "cell_type": "markdown",
   "metadata": {},
   "source": [
    "# Test the Preprocessing  of the image"
   ]
  },
  {
   "cell_type": "code",
   "execution_count": 2,
   "metadata": {},
   "outputs": [],
   "source": [
    "def plt_imshow(title,image):\n",
    "    image=cv2.cvtColor(image,cv2.COLOR_BGR2RGB)\n",
    "    plt.imshow(image)\n",
    "    plt.title(title)\n",
    "    plt.show()"
   ]
  },
  {
   "cell_type": "code",
   "execution_count": 3,
   "metadata": {},
   "outputs": [
    {
     "name": "stdout",
     "output_type": "stream",
     "text": [
      "Image Original Shape: (150, 150, 3)\n"
     ]
    }
   ],
   "source": [
    "image=cv2.imread(\"images/aaaczjgk.png\")\n",
    "(h,w,_)=image.shape\n",
    "cY,cX=h//2,w//2\n",
    "print(\"Image Original Shape:\",image.shape)"
   ]
  },
  {
   "cell_type": "code",
   "execution_count": 4,
   "metadata": {},
   "outputs": [
    {
     "data": {
      "image/png": "[encoded data removed]",
      "text/plain": [
       "<Figure size 432x288 with 1 Axes>"
      ]
     },
     "metadata": {
      "needs_background": "light"
     },
     "output_type": "display_data"
    }
   ],
   "source": [
    "plt_imshow(\"Original\",image)"
   ]
  },
  {
   "cell_type": "code",
   "execution_count": 5,
   "metadata": {},
   "outputs": [
    {
     "name": "stdout",
     "output_type": "stream",
     "text": [
      "Image shape: (64, 64)\n"
     ]
    }
   ],
   "source": [
    "#Preproccess\n",
    "#Convert to grayscale image since we do not need RGB Images\n",
    "image=cv2.cvtColor(image,cv2.COLOR_BGR2GRAY)\n",
    "image=image[0:125,20:145]\n",
    "ratio=32/w\n",
    "# Doing threshold to make sure we only have 0 and 255 value\n",
    "image=cv2.resize(image,(64,64),cv2.INTER_AREA)\n",
    "thresh,image=cv2.threshold(image,0,255,cv2.THRESH_BINARY | cv2.THRESH_OTSU)\n",
    "print(\"Image shape:\",image.shape)"
   ]
  },
  {
   "cell_type": "code",
   "execution_count": 6,
   "metadata": {},
   "outputs": [
    {
     "data": {
      "image/png": "[encoded data removed]",
      "text/plain": [
       "<Figure size 432x288 with 1 Axes>"
      ]
     },
     "metadata": {
      "needs_background": "light"
     },
     "output_type": "display_data"
    }
   ],
   "source": [
    "plt_imshow(\"After Preprocessing\",image)"
   ]
  },
  {
   "cell_type": "code",
   "execution_count": 355,
   "metadata": {},
   "outputs": [],
   "source": [
    "df=pd.read_csv(\"responses.csv\")"
   ]
  },
  {
   "cell_type": "code",
   "execution_count": 358,
   "metadata": {},
   "outputs": [
    {
     "data": {
      "text/plain": [
       "<AxesSubplot:ylabel='Frequency'>"
      ]
     },
     "execution_count": 358,
     "metadata": {},
     "output_type": "execute_result"
    },
    {
     "data": {
      "image/png": "[encoded data removed]",
      "text/plain": [
       "<Figure size 432x288 with 1 Axes>"
      ]
     },
     "metadata": {
      "needs_background": "light"
     },
     "output_type": "display_data"
    }
   ],
   "source": [
    "df['corr'].plot.hist(bins=100)"
   ]
  },
  {
   "cell_type": "code",
   "execution_count": 68,
   "metadata": {},
   "outputs": [
    {
     "data": {
      "text/plain": [
       "73779"
      ]
     },
     "execution_count": 68,
     "metadata": {},
     "output_type": "execute_result"
    }
   ],
   "source": [
    "len(df[df['corr']<0])"
   ]
  },
  {
   "cell_type": "code",
   "execution_count": 287,
   "metadata": {},
   "outputs": [
    {
     "data": {
      "text/plain": [
       "0"
      ]
     },
     "execution_count": 287,
     "metadata": {},
     "output_type": "execute_result"
    }
   ],
   "source": [
    "len(df[df['corr']==0])"
   ]
  },
  {
   "cell_type": "markdown",
   "metadata": {},
   "source": [
    "# Create Dataloader"
   ]
  },
  {
   "cell_type": "code",
   "execution_count": 10,
   "metadata": {},
   "outputs": [],
   "source": [
    "class SimplePreprocessor:\n",
    "    def __init__(self,height,width,inter=cv2.INTER_AREA):\n",
    "        self.height=height\n",
    "        self.width=width\n",
    "        self.inter=inter\n",
    "        \n",
    "    def preprocess(self,image):\n",
    "        image=cv2.cvtColor(image,cv2.COLOR_BGR2GRAY)\n",
    "        \n",
    "        # Crop the image to remove axes\n",
    "        image=image[0:125,20:145]      \n",
    "        # Doing threshold to make sure we only have 0 and 255 value\n",
    "        image=cv2.resize(image,(self.height,self.width),cv2.INTER_AREA)\n",
    "        thresh,image=cv2.threshold(image,0,255,cv2.THRESH_BINARY | cv2.THRESH_OTSU)\n",
    "        return image\n",
    "\n",
    "    \n",
    "        "
   ]
  },
  {
   "cell_type": "code",
   "execution_count": 11,
   "metadata": {},
   "outputs": [],
   "source": [
    "class DataLoader:\n",
    "    def __init__(self,preprocessor=None):\n",
    "        self.preprocessor=preprocessor\n",
    "        \n",
    "        if self.preprocessor is None:\n",
    "            self.preprocessor=[]\n",
    "    \n",
    "    def load(self,ImageList,Label_CSV,verbose=1):\n",
    "        \n",
    "        data=[]\n",
    "        labels=[]\n",
    "        label_data=pd.read_csv(Label_CSV)\n",
    "        \n",
    "        for (i,imagePath) in enumerate(ImageList):\n",
    "            image=cv2.imread(imagePath)\n",
    "            label=imagePath.split(os.sep)[1]\n",
    "            \n",
    "            if self.preprocessor is not None:\n",
    "                for process in self.preprocessor:\n",
    "                    image=process.preprocess(image)\n",
    "            \n",
    "            data.append(image)\n",
    "            \n",
    "            basename = os.path.basename(imagePath)\n",
    "            file_name = os.path.splitext(basename)[0]\n",
    "            label=float(label_data.loc[label_data['id'] == file_name]['corr'])\n",
    "\n",
    "            labels.append(label)\n",
    "            \n",
    "            if verbose>0 and i>0 and (i+1)%verbose==0:\n",
    "                print(\"[INFO] processed {}/{}\".format(i+1,len(ImageList)))\n",
    "                \n",
    "        return(np.array(data),np.array(labels))\n",
    "\n",
    "            \n",
    "            "
   ]
  },
  {
   "cell_type": "code",
   "execution_count": 12,
   "metadata": {},
   "outputs": [],
   "source": [
    "image_list=glob.glob(\"images/*.png\")\n",
    "csv_label=\"responses.csv\""
   ]
  },
  {
   "cell_type": "code",
   "execution_count": 13,
   "metadata": {},
   "outputs": [],
   "source": [
    "prep=SimplePreprocessor(height=64,width=64)\n",
    "loader=DataLoader(preprocessor=[prep])"
   ]
  },
  {
   "cell_type": "code",
   "execution_count": 15,
   "metadata": {
    "scrolled": true
   },
   "outputs": [
    {
     "name": "stdout",
     "output_type": "stream",
     "text": [
      "[INFO] processed 1000/150000\n",
      "[INFO] processed 2000/150000\n",
      "[INFO] processed 3000/150000\n",
      "[INFO] processed 4000/150000\n",
      "[INFO] processed 5000/150000\n",
      "[INFO] processed 6000/150000\n",
      "[INFO] processed 7000/150000\n",
      "[INFO] processed 8000/150000\n",
      "[INFO] processed 9000/150000\n",
      "[INFO] processed 10000/150000\n",
      "[INFO] processed 11000/150000\n",
      "[INFO] processed 12000/150000\n",
      "[INFO] processed 13000/150000\n",
      "[INFO] processed 14000/150000\n",
      "[INFO] processed 15000/150000\n",
      "[INFO] processed 16000/150000\n",
      "[INFO] processed 17000/150000\n",
      "[INFO] processed 18000/150000\n",
      "[INFO] processed 19000/150000\n",
      "[INFO] processed 20000/150000\n",
      "[INFO] processed 21000/150000\n",
      "[INFO] processed 22000/150000\n",
      "[INFO] processed 23000/150000\n",
      "[INFO] processed 24000/150000\n",
      "[INFO] processed 25000/150000\n",
      "[INFO] processed 26000/150000\n",
      "[INFO] processed 27000/150000\n",
      "[INFO] processed 28000/150000\n",
      "[INFO] processed 29000/150000\n",
      "[INFO] processed 30000/150000\n",
      "[INFO] processed 31000/150000\n",
      "[INFO] processed 32000/150000\n",
      "[INFO] processed 33000/150000\n",
      "[INFO] processed 34000/150000\n",
      "[INFO] processed 35000/150000\n",
      "[INFO] processed 36000/150000\n",
      "[INFO] processed 37000/150000\n",
      "[INFO] processed 38000/150000\n",
      "[INFO] processed 39000/150000\n",
      "[INFO] processed 40000/150000\n",
      "[INFO] processed 41000/150000\n",
      "[INFO] processed 42000/150000\n",
      "[INFO] processed 43000/150000\n",
      "[INFO] processed 44000/150000\n",
      "[INFO] processed 45000/150000\n",
      "[INFO] processed 46000/150000\n",
      "[INFO] processed 47000/150000\n",
      "[INFO] processed 48000/150000\n",
      "[INFO] processed 49000/150000\n",
      "[INFO] processed 50000/150000\n",
      "[INFO] processed 51000/150000\n",
      "[INFO] processed 52000/150000\n",
      "[INFO] processed 53000/150000\n",
      "[INFO] processed 54000/150000\n",
      "[INFO] processed 55000/150000\n",
      "[INFO] processed 56000/150000\n",
      "[INFO] processed 57000/150000\n",
      "[INFO] processed 58000/150000\n",
      "[INFO] processed 59000/150000\n",
      "[INFO] processed 60000/150000\n",
      "[INFO] processed 61000/150000\n",
      "[INFO] processed 62000/150000\n",
      "[INFO] processed 63000/150000\n",
      "[INFO] processed 64000/150000\n",
      "[INFO] processed 65000/150000\n",
      "[INFO] processed 66000/150000\n",
      "[INFO] processed 67000/150000\n",
      "[INFO] processed 68000/150000\n",
      "[INFO] processed 69000/150000\n",
      "[INFO] processed 70000/150000\n",
      "[INFO] processed 71000/150000\n",
      "[INFO] processed 72000/150000\n",
      "[INFO] processed 73000/150000\n",
      "[INFO] processed 74000/150000\n",
      "[INFO] processed 75000/150000\n",
      "[INFO] processed 76000/150000\n",
      "[INFO] processed 77000/150000\n",
      "[INFO] processed 78000/150000\n",
      "[INFO] processed 79000/150000\n",
      "[INFO] processed 80000/150000\n",
      "[INFO] processed 81000/150000\n",
      "[INFO] processed 82000/150000\n",
      "[INFO] processed 83000/150000\n",
      "[INFO] processed 84000/150000\n",
      "[INFO] processed 85000/150000\n",
      "[INFO] processed 86000/150000\n",
      "[INFO] processed 87000/150000\n",
      "[INFO] processed 88000/150000\n",
      "[INFO] processed 89000/150000\n",
      "[INFO] processed 90000/150000\n",
      "[INFO] processed 91000/150000\n",
      "[INFO] processed 92000/150000\n",
      "[INFO] processed 93000/150000\n",
      "[INFO] processed 94000/150000\n",
      "[INFO] processed 95000/150000\n",
      "[INFO] processed 96000/150000\n",
      "[INFO] processed 97000/150000\n",
      "[INFO] processed 98000/150000\n",
      "[INFO] processed 99000/150000\n",
      "[INFO] processed 100000/150000\n",
      "[INFO] processed 101000/150000\n",
      "[INFO] processed 102000/150000\n",
      "[INFO] processed 103000/150000\n",
      "[INFO] processed 104000/150000\n",
      "[INFO] processed 105000/150000\n",
      "[INFO] processed 106000/150000\n",
      "[INFO] processed 107000/150000\n",
      "[INFO] processed 108000/150000\n",
      "[INFO] processed 109000/150000\n",
      "[INFO] processed 110000/150000\n",
      "[INFO] processed 111000/150000\n",
      "[INFO] processed 112000/150000\n",
      "[INFO] processed 113000/150000\n",
      "[INFO] processed 114000/150000\n",
      "[INFO] processed 115000/150000\n",
      "[INFO] processed 116000/150000\n",
      "[INFO] processed 117000/150000\n",
      "[INFO] processed 118000/150000\n",
      "[INFO] processed 119000/150000\n",
      "[INFO] processed 120000/150000\n",
      "[INFO] processed 121000/150000\n",
      "[INFO] processed 122000/150000\n",
      "[INFO] processed 123000/150000\n",
      "[INFO] processed 124000/150000\n",
      "[INFO] processed 125000/150000\n",
      "[INFO] processed 126000/150000\n",
      "[INFO] processed 127000/150000\n",
      "[INFO] processed 128000/150000\n",
      "[INFO] processed 129000/150000\n",
      "[INFO] processed 130000/150000\n",
      "[INFO] processed 131000/150000\n",
      "[INFO] processed 132000/150000\n",
      "[INFO] processed 133000/150000\n",
      "[INFO] processed 134000/150000\n",
      "[INFO] processed 135000/150000\n",
      "[INFO] processed 136000/150000\n",
      "[INFO] processed 137000/150000\n",
      "[INFO] processed 138000/150000\n",
      "[INFO] processed 139000/150000\n",
      "[INFO] processed 140000/150000\n",
      "[INFO] processed 141000/150000\n",
      "[INFO] processed 142000/150000\n",
      "[INFO] processed 143000/150000\n",
      "[INFO] processed 144000/150000\n",
      "[INFO] processed 145000/150000\n",
      "[INFO] processed 146000/150000\n",
      "[INFO] processed 147000/150000\n",
      "[INFO] processed 148000/150000\n",
      "[INFO] processed 149000/150000\n",
      "[INFO] processed 150000/150000\n"
     ]
    }
   ],
   "source": [
    "data,labels=loader.load(image_list,csv_label,verbose=1000)"
   ]
  },
  {
   "cell_type": "code",
   "execution_count": 218,
   "metadata": {},
   "outputs": [],
   "source": [
    "#Normalize the data to faster training speed\n",
    "data_normalize=data/255\n",
    "\n",
    "#Reshape the data to match input of cnn\n",
    "data_normalize=data_normalize.reshape((data_normalize.shape[0],data_normalize.shape[1],data_normalize.shape[2],1))"
   ]
  },
  {
   "cell_type": "code",
   "execution_count": 219,
   "metadata": {},
   "outputs": [],
   "source": [
    "# labels_ = (labels - mn)/(mx - mn)"
   ]
  },
  {
   "cell_type": "markdown",
   "metadata": {},
   "source": [
    "### Load / Save Numpy Array Dataset for Inference in the Future"
   ]
  },
  {
   "cell_type": "code",
   "execution_count": 220,
   "metadata": {},
   "outputs": [],
   "source": [
    "# np.save('data.npy', data_normalize) # save\n",
    "# np.save('labels.npy', labels) # save\n",
    "\n",
    "data_normalize = np.load('data.npy') # load\n",
    "labels = np.load('labels.npy') # load\n"
   ]
  },
  {
   "cell_type": "code",
   "execution_count": 221,
   "metadata": {},
   "outputs": [],
   "source": [
    "#Get original value\n",
    "# y_train_original = labels*(mx-mn) + mn\n"
   ]
  },
  {
   "cell_type": "code",
   "execution_count": 222,
   "metadata": {},
   "outputs": [
    {
     "data": {
      "text/plain": [
       "(150000, 64, 64, 1)"
      ]
     },
     "execution_count": 222,
     "metadata": {},
     "output_type": "execute_result"
    }
   ],
   "source": [
    "data_normalize.shape"
   ]
  },
  {
   "cell_type": "markdown",
   "metadata": {},
   "source": [
    "## Split DataTest and DataTrain"
   ]
  },
  {
   "cell_type": "code",
   "execution_count": 315,
   "metadata": {},
   "outputs": [],
   "source": [
    "# partition the data into training and testing splits using 75% of\n",
    "# the data for training and the remaining 25% for testing\n",
    "(xTrain,xTest,yTrain,yTest)=train_test_split(data_normalize,labels,test_size=0.2,random_state=42,shuffle=True)"
   ]
  },
  {
   "cell_type": "markdown",
   "metadata": {},
   "source": [
    "## Create the Model"
   ]
  },
  {
   "cell_type": "code",
   "execution_count": 316,
   "metadata": {},
   "outputs": [],
   "source": [
    "def create_cnn(width, height, depth, filters=(16,32, 64), regress=False):\n",
    "    # initialize the input shape and channel dimension, assuming\n",
    "    # TensorFlow/channels-last ordering\n",
    "    inputShape = (height, width, depth)\n",
    "    chanDim = -1\n",
    "\n",
    "    # define the model input\n",
    "    inputs = Input(shape=inputShape)\n",
    "\n",
    "    # loop over the number of filters\n",
    "    for (i, f) in enumerate(filters):\n",
    "        # if this is the first CONV layer then set the input\n",
    "        # appropriately\n",
    "        if i == 0:\n",
    "            x = inputs\n",
    "\n",
    "        # CONV => RELU => BN => POOL\n",
    "        x = Conv2D(f, (3, 3), padding=\"same\")(x)\n",
    "        x = Activation(\"relu\")(x)\n",
    "        x = BatchNormalization(axis=chanDim)(x)\n",
    "        x = MaxPooling2D(pool_size=(2, 2))(x)\n",
    "\n",
    "    # flatten the volume, then FC => RELU => BN => DROPOUT\n",
    "    x = Flatten()(x)\n",
    "    x = Dense(16)(x)\n",
    "    x = Activation(\"relu\")(x)\n",
    "    x = BatchNormalization(axis=chanDim)(x)\n",
    "    x = Dropout(0.5)(x)\n",
    "\n",
    "    # apply another FC layer, this one to match the number of nodes\n",
    "    # coming out of the MLP\n",
    "    x = Dense(8)(x)\n",
    "    x = Activation(\"relu\")(x)\n",
    "    x = Dense(4)(x)\n",
    "    x = Activation(\"relu\")(x)\n",
    "    \n",
    "    # check to see if the regression node should be added\n",
    "    if regress:\n",
    "        x = Dense(1, activation=\"tanh\")(x)\n",
    "\n",
    "    # construct the CNN\n",
    "    model = Model(inputs, x)\n",
    "\n",
    "    # return the CNN\n",
    "    return model"
   ]
  },
  {
   "cell_type": "code",
   "execution_count": 335,
   "metadata": {},
   "outputs": [],
   "source": [
    "# Train the model\n",
    "model = create_cnn(64, 64, 1, regress=True)\n",
    "# opt = SGD(lr=1e-3,momentum=0.2,nesterov=True)\n",
    "# opt = Adam(lr=1e-3, decay=1e-3/200)\n",
    "# opt = tfa.optimizers.LazyAdam(0.001)\n",
    "\n",
    "# def get_huber_loss_fn(**huber_loss_kwargs):\n",
    "\n",
    "#     def custom_huber_loss(y_true, y_pred):\n",
    "#         return huber(y_true, y_pred, **huber_loss_kwargs)\n",
    "\n",
    "#     return custom_huber_loss\n",
    "\n",
    "\n",
    "model.compile(loss=\"mean_absolute_percentage_error\", optimizer=opt)\n",
    "# model.compile(loss=\"mean_squared_error\", optimizer='adam')\n",
    "# model.compile(loss=get_huber_loss_fn(delta=20), optimizer=opt)\n"
   ]
  },
  {
   "cell_type": "code",
   "execution_count": 336,
   "metadata": {
    "scrolled": true
   },
   "outputs": [
    {
     "name": "stdout",
     "output_type": "stream",
     "text": [
      "Model: \"functional_71\"\n",
      "_________________________________________________________________\n",
      "Layer (type)                 Output Shape              Param #   \n",
      "=================================================================\n",
      "input_42 (InputLayer)        [(None, 64, 64, 1)]       0         \n",
      "_________________________________________________________________\n",
      "conv2d_102 (Conv2D)          (None, 64, 64, 16)        160       \n",
      "_________________________________________________________________\n",
      "activation_183 (Activation)  (None, 64, 64, 16)        0         \n",
      "_________________________________________________________________\n",
      "batch_normalization_130 (Bat (None, 64, 64, 16)        64        \n",
      "_________________________________________________________________\n",
      "max_pooling2d_101 (MaxPoolin (None, 32, 32, 16)        0         \n",
      "_________________________________________________________________\n",
      "conv2d_103 (Conv2D)          (None, 32, 32, 32)        4640      \n",
      "_________________________________________________________________\n",
      "activation_184 (Activation)  (None, 32, 32, 32)        0         \n",
      "_________________________________________________________________\n",
      "batch_normalization_131 (Bat (None, 32, 32, 32)        128       \n",
      "_________________________________________________________________\n",
      "max_pooling2d_102 (MaxPoolin (None, 16, 16, 32)        0         \n",
      "_________________________________________________________________\n",
      "conv2d_104 (Conv2D)          (None, 16, 16, 64)        18496     \n",
      "_________________________________________________________________\n",
      "activation_185 (Activation)  (None, 16, 16, 64)        0         \n",
      "_________________________________________________________________\n",
      "batch_normalization_132 (Bat (None, 16, 16, 64)        256       \n",
      "_________________________________________________________________\n",
      "max_pooling2d_103 (MaxPoolin (None, 8, 8, 64)          0         \n",
      "_________________________________________________________________\n",
      "flatten_38 (Flatten)         (None, 4096)              0         \n",
      "_________________________________________________________________\n",
      "dense_125 (Dense)            (None, 16)                65552     \n",
      "_________________________________________________________________\n",
      "activation_186 (Activation)  (None, 16)                0         \n",
      "_________________________________________________________________\n",
      "batch_normalization_133 (Bat (None, 16)                64        \n",
      "_________________________________________________________________\n",
      "dropout_47 (Dropout)         (None, 16)                0         \n",
      "_________________________________________________________________\n",
      "dense_126 (Dense)            (None, 8)                 136       \n",
      "_________________________________________________________________\n",
      "activation_187 (Activation)  (None, 8)                 0         \n",
      "_________________________________________________________________\n",
      "dense_127 (Dense)            (None, 4)                 36        \n",
      "_________________________________________________________________\n",
      "activation_188 (Activation)  (None, 4)                 0         \n",
      "_________________________________________________________________\n",
      "dense_128 (Dense)            (None, 1)                 5         \n",
      "=================================================================\n",
      "Total params: 89,537\n",
      "Trainable params: 89,281\n",
      "Non-trainable params: 256\n",
      "_________________________________________________________________\n"
     ]
    }
   ],
   "source": [
    "model.summary()"
   ]
  },
  {
   "cell_type": "markdown",
   "metadata": {},
   "source": [
    "## Show the Lost Before Training the Model"
   ]
  },
  {
   "cell_type": "code",
   "execution_count": 337,
   "metadata": {},
   "outputs": [],
   "source": [
    "def show_test_error(datatest,testlabel,model):\n",
    "    score = model.evaluate(datatest,testlabel)\n",
    "    print(\"Test error: \",score)"
   ]
  },
  {
   "cell_type": "code",
   "execution_count": 338,
   "metadata": {},
   "outputs": [
    {
     "name": "stdout",
     "output_type": "stream",
     "text": [
      "938/938 [==============================] - 9s 10ms/step - loss: 194.6415\n",
      "Test error:  194.64149475097656\n"
     ]
    }
   ],
   "source": [
    "show_test_error(xTest,yTest,model)"
   ]
  },
  {
   "cell_type": "markdown",
   "metadata": {},
   "source": [
    "## Start Train the Model\n"
   ]
  },
  {
   "cell_type": "code",
   "execution_count": 339,
   "metadata": {
    "scrolled": false
   },
   "outputs": [
    {
     "name": "stdout",
     "output_type": "stream",
     "text": [
      "[INFO] training model...\n",
      "Epoch 1/15\n",
      "94/94 [==============================] - ETA: 0s - loss: 147.1147\n",
      "Epoch 00001: val_loss improved from inf to 319.36819, saving model to model-001-147.114685-319.368195.h5\n",
      "94/94 [==============================] - 166s 2s/step - loss: 147.1147 - val_loss: 319.3682\n",
      "Epoch 2/15\n",
      "94/94 [==============================] - ETA: 0s - loss: 93.3507\n",
      "Epoch 00002: val_loss improved from 319.36819 to 204.96748, saving model to model-002-93.350655-204.967484.h5\n",
      "94/94 [==============================] - 167s 2s/step - loss: 93.3507 - val_loss: 204.9675\n",
      "Epoch 3/15\n",
      "94/94 [==============================] - ETA: 0s - loss: 88.3035\n",
      "Epoch 00003: val_loss did not improve from 204.96748\n",
      "94/94 [==============================] - 167s 2s/step - loss: 88.3035 - val_loss: 730.2850\n",
      "Epoch 4/15\n",
      "94/94 [==============================] - ETA: 0s - loss: 85.5029\n",
      "Epoch 00004: val_loss did not improve from 204.96748\n",
      "94/94 [==============================] - 167s 2s/step - loss: 85.5029 - val_loss: 472.3130\n",
      "Epoch 5/15\n",
      "94/94 [==============================] - ETA: 0s - loss: 74.8568\n",
      "Epoch 00005: val_loss improved from 204.96748 to 163.84036, saving model to model-005-74.856827-163.840363.h5\n",
      "94/94 [==============================] - 167s 2s/step - loss: 74.8568 - val_loss: 163.8404\n",
      "Epoch 6/15\n",
      "94/94 [==============================] - ETA: 0s - loss: 72.3751\n",
      "Epoch 00006: val_loss improved from 163.84036 to 91.60046, saving model to model-006-72.375061-91.600456.h5\n",
      "94/94 [==============================] - 168s 2s/step - loss: 72.3751 - val_loss: 91.6005\n",
      "Epoch 7/15\n",
      "94/94 [==============================] - ETA: 0s - loss: 71.8109\n",
      "Epoch 00007: val_loss improved from 91.60046 to 71.73080, saving model to model-007-71.810867-71.730804.h5\n",
      "94/94 [==============================] - 167s 2s/step - loss: 71.8109 - val_loss: 71.7308\n",
      "Epoch 8/15\n",
      "94/94 [==============================] - ETA: 0s - loss: 69.7533\n",
      "Epoch 00008: val_loss did not improve from 71.73080\n",
      "94/94 [==============================] - 167s 2s/step - loss: 69.7533 - val_loss: 87.4858\n",
      "Epoch 9/15\n",
      "94/94 [==============================] - ETA: 0s - loss: 79.8388\n",
      "Epoch 00009: val_loss did not improve from 71.73080\n",
      "94/94 [==============================] - 167s 2s/step - loss: 79.8388 - val_loss: 154.2406\n",
      "Epoch 10/15\n",
      "94/94 [==============================] - ETA: 0s - loss: 69.7033\n",
      "Epoch 00010: val_loss did not improve from 71.73080\n",
      "94/94 [==============================] - 169s 2s/step - loss: 69.7033 - val_loss: 71.7790\n",
      "Epoch 11/15\n",
      "94/94 [==============================] - ETA: 0s - loss: 67.0386\n",
      "Epoch 00011: val_loss improved from 71.73080 to 51.03072, saving model to model-011-67.038597-51.030724.h5\n",
      "94/94 [==============================] - 168s 2s/step - loss: 67.0386 - val_loss: 51.0307\n",
      "Epoch 12/15\n",
      "94/94 [==============================] - ETA: 0s - loss: 65.5475\n",
      "Epoch 00012: val_loss did not improve from 51.03072\n",
      "94/94 [==============================] - 169s 2s/step - loss: 65.5475 - val_loss: 62.1890\n",
      "Epoch 13/15\n",
      "94/94 [==============================] - ETA: 0s - loss: 61.4024\n",
      "Epoch 00013: val_loss improved from 51.03072 to 46.17361, saving model to model-013-61.402420-46.173611.h5\n",
      "94/94 [==============================] - 168s 2s/step - loss: 61.4024 - val_loss: 46.1736\n",
      "Epoch 14/15\n",
      "94/94 [==============================] - ETA: 0s - loss: 57.0270\n",
      "Epoch 00014: val_loss did not improve from 46.17361\n",
      "94/94 [==============================] - 169s 2s/step - loss: 57.0270 - val_loss: 56.6908\n",
      "Epoch 15/15\n",
      "94/94 [==============================] - ETA: 0s - loss: 55.4542\n",
      "Epoch 00015: val_loss did not improve from 46.17361\n",
      "94/94 [==============================] - 168s 2s/step - loss: 55.4542 - val_loss: 51.8334\n"
     ]
    }
   ],
   "source": [
    "\n",
    "# train the model\n",
    "print(\"[INFO] training model...\")\n",
    "earlystop = tf.keras.callbacks.EarlyStopping(monitor='loss', patience=9)\n",
    "checkpoint = tf.keras.callbacks.ModelCheckpoint('model-{epoch:03d}-{loss:03f}-{val_loss:03f}.h5', verbose=1, monitor='val_loss',save_best_only=True, mode='auto')  \n",
    "\n",
    "history=model.fit(x=xTrain, y=yTrain, \n",
    "    validation_split = 0.2,\n",
    "    epochs=15, batch_size=1024,callbacks=[earlystop,checkpoint])"
   ]
  },
  {
   "cell_type": "code",
   "execution_count": 341,
   "metadata": {},
   "outputs": [
    {
     "data": {
      "image/png": "[encoded data removed]",
      "text/plain": [
       "<Figure size 432x288 with 1 Axes>"
      ]
     },
     "metadata": {
      "needs_background": "light"
     },
     "output_type": "display_data"
    }
   ],
   "source": [
    "plt.plot(history.history['loss'])\n",
    "plt.plot(history.history['val_loss'])\n",
    "plt.title('model loss')\n",
    "plt.ylabel('loss')\n",
    "plt.xlabel('epoch')\n",
    "plt.legend(['train', 'val'], loc='upper left')\n",
    "plt.show()"
   ]
  },
  {
   "cell_type": "markdown",
   "metadata": {},
   "source": [
    "## Show the Lost After Training"
   ]
  },
  {
   "cell_type": "code",
   "execution_count": 342,
   "metadata": {},
   "outputs": [
    {
     "name": "stdout",
     "output_type": "stream",
     "text": [
      "WARNING:tensorflow:Error in loading the saved optimizer state. As a result, your model is starting with a freshly initialized optimizer.\n",
      "938/938 [==============================] - 8s 9ms/step - loss: 45.3795\n",
      "Test error:  45.37948989868164\n"
     ]
    }
   ],
   "source": [
    "#Load the best model\n",
    "model = load_model('model-013-61.402420-46.173611.h5')\n",
    "show_test_error(xTest,yTest,model)"
   ]
  },
  {
   "cell_type": "markdown",
   "metadata": {},
   "source": [
    "# Test using real data from web"
   ]
  },
  {
   "cell_type": "code",
   "execution_count": 343,
   "metadata": {},
   "outputs": [],
   "source": [
    "def test_thewebdata(imagepath,model):\n",
    "    image=cv2.imread(imagepath)\n",
    "    image=cv2.cvtColor(image,cv2.COLOR_BGR2GRAY)\n",
    "    plt_imshow(\"Grayscale\",image)\n",
    "    image=image[25:325,50:350]\n",
    "    plt_imshow(\"Image_Cropped\",image)\n",
    "    image=cv2.resize(image,(64,64),cv2.INTER_AREA)\n",
    "    thresh,image=cv2.threshold(image,0,255,cv2.THRESH_BINARY | cv2.THRESH_OTSU)\n",
    "    plt_imshow(\"Thresholded_resize\",image)\n",
    "    test_normalize=image/255\n",
    "    test_normalize=test_normalize.reshape((1,64,64,1))\n",
    "    result=model.predict(test_normalize)\n",
    "    print(\"Result: \",result[0][0])\n",
    "    return result\n",
    "\n",
    "def test_onedata(imagepath,model):\n",
    "    image=cv2.imread(imagepath)\n",
    "    image=cv2.cvtColor(image,cv2.COLOR_BGR2GRAY)\n",
    "    plt_imshow(\"Grayscale\",image)\n",
    "    image=image[0:125,20:145]\n",
    "    plt_imshow(\"Image_Cropped\",image)\n",
    "    image=cv2.resize(image,(64,64),cv2.INTER_AREA)\n",
    "    thresh,image=cv2.threshold(image,0,255,cv2.THRESH_BINARY | cv2.THRESH_OTSU)\n",
    "    plt_imshow(\"Thresholded_resize\",image)\n",
    "    test_normalize=image/255\n",
    "    test_normalize=test_normalize.reshape((1,64,64,1))\n",
    "    result=model.predict(test_normalize)\n",
    "    print(\"Result: \",result[0][0])\n",
    "    return result"
   ]
  },
  {
   "cell_type": "code",
   "execution_count": 354,
   "metadata": {},
   "outputs": [
    {
     "data": {
      "image/png": "[encoded data removed]",
      "text/plain": [
       "<Figure size 432x288 with 1 Axes>"
      ]
     },
     "metadata": {
      "needs_background": "light"
     },
     "output_type": "display_data"
    },
    {
     "data": {
      "image/png": "[encoded data removed]",
      "text/plain": [
       "<Figure size 432x288 with 1 Axes>"
      ]
     },
     "metadata": {
      "needs_background": "light"
     },
     "output_type": "display_data"
    },
    {
     "data": {
      "image/png": "[encoded data removed]",
      "text/plain": [
       "<Figure size 432x288 with 1 Axes>"
      ]
     },
     "metadata": {
      "needs_background": "light"
     },
     "output_type": "display_data"
    },
    {
     "name": "stdout",
     "output_type": "stream",
     "text": [
      "Result:  0.12583047\n"
     ]
    }
   ],
   "source": [
    "result=test_thewebdata(\"../Test_Website/20.PNG\",model)"
   ]
  },
  {
   "cell_type": "code",
   "execution_count": 353,
   "metadata": {},
   "outputs": [
    {
     "data": {
      "image/png": "[encoded data removed]",
      "text/plain": [
       "<Figure size 432x288 with 1 Axes>"
      ]
     },
     "metadata": {
      "needs_background": "light"
     },
     "output_type": "display_data"
    },
    {
     "data": {
      "image/png": "[encoded data removed]",
      "text/plain": [
       "<Figure size 432x288 with 1 Axes>"
      ]
     },
     "metadata": {
      "needs_background": "light"
     },
     "output_type": "display_data"
    },
    {
     "data": {
      "image/png": "[encoded data removed]",
      "text/plain": [
       "<Figure size 432x288 with 1 Axes>"
      ]
     },
     "metadata": {
      "needs_background": "light"
     },
     "output_type": "display_data"
    },
    {
     "name": "stdout",
     "output_type": "stream",
     "text": [
      "Result:  0.018847639\n"
     ]
    }
   ],
   "source": [
    "result=test_onedata(\"images/abydmeih.png\",model)"
   ]
  },
  {
   "cell_type": "markdown",
   "metadata": {},
   "source": [
    "# How to Improve"
   ]
  },
  {
   "cell_type": "markdown",
   "metadata": {},
   "source": [
    "Use more advanced CNN Architecture,\n",
    "Do a little more data analysis,\n",
    "Do better image preprocessing,\n",
    "If the dataset imbalance, we can do reweighting or resampling ,\n",
    "Do dataset augmentation, for example rotate 180 degree"
   ]
  },
  {
   "cell_type": "code",
   "execution_count": null,
   "metadata": {},
   "outputs": [],
   "source": []
  }
 ],
 "metadata": {
  "kernelspec": {
   "display_name": "Python 3",
   "language": "python",
   "name": "python3"
  },
  "language_info": {
   "codemirror_mode": {
    "name": "ipython",
    "version": 3
   },
   "file_extension": ".py",
   "mimetype": "text/x-python",
   "name": "python",
   "nbconvert_exporter": "python",
   "pygments_lexer": "ipython3",
   "version": "3.8.5"
  }
 },
 "nbformat": 4,
 "nbformat_minor": 4
}
